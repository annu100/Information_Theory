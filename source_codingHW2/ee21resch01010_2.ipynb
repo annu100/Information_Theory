{
  "nbformat": 4,
  "nbformat_minor": 0,
  "metadata": {
    "colab": {
      "name": "EE20MTECH12001_HW2_problem2_1.ipynb",
      "provenance": []
    },
    "kernelspec": {
      "name": "python3",
      "display_name": "Python 3"
    },
    "language_info": {
      "name": "python"
    }
  },
  "cells": [
    {
      "cell_type": "markdown",
      "metadata": {
        "id": "sZa4xw3PXksk"
      },
      "source": [
        "Name-ANNU\n",
        "\n",
        "ROLL_NO-EE21RESCH01010\n",
        "\n",
        "SOURCE CODING ASSIGNMENT 2 \n",
        "\n",
        "**CODE FOR ARITHMETIC CODES**"
      ]
    },
    {
      "cell_type": "code",
      "metadata": {
        "id": "1itmYzg5xfoB"
      },
      "source": [
        "#importing libraries\n",
        "\n",
        "import numpy as np\n",
        "import matplotlib.pyplot as plt\n",
        "import math"
      ],
      "execution_count": 1,
      "outputs": []
    },
    {
      "cell_type": "code",
      "metadata": {
        "id": "WnBh0CPWA9lS",
        "colab": {
          "base_uri": "https://localhost:8080/"
        },
        "outputId": "c0b33a47-805a-42e4-ff0f-fc3418e1b916"
      },
      "source": [
        "#data given to us\n",
        "\n",
        "symbols = ['a','b','c']\n",
        "#prob_pmf = np.array([0.1,0.5,0.4])\n",
        "prob_pmf=np.array([0.2667262398,0.3534364081,0.379837352])\n",
        "pmf_dict=dict(zip(symbols,prob_pmf))\n",
        "#Calculating G(a),G(b),G(c)\n",
        "initial_G_dict=dict(zip(symbols,[sum(prob_pmf[0:i]) for i in range(len(prob_pmf))]))\n",
        "print(\"Initial G values of symbols in dictionary form is\",initial_G_dict)\n",
        "#input_sequence1='bbca'\n",
        "input_sequence1='cbcabbbbcb'\n",
        "input_sequence2='abcbcbcbcc'"
      ],
      "execution_count": 3,
      "outputs": [
        {
          "output_type": "stream",
          "text": [
            "Initial G values of symbols in dictionary form is {'a': 0, 'b': 0.2667262398, 'c': 0.6201626479}\n"
          ],
          "name": "stdout"
        }
      ]
    },
    {
      "cell_type": "code",
      "metadata": {
        "id": "aQ_bKxub-Pfz"
      },
      "source": [
        "#recursive probability for the sequence\n",
        "def probability_xn(input_sequence,n,dictionary_prob):\n",
        "  if input_sequence in dictionary_prob:\n",
        "    return dictionary_prob[input_sequence]\n",
        "  else :\n",
        "    return probability_xn(input_sequence[0:n-1],n-1,dictionary_prob)*dictionary_prob[input_sequence[n-1]]"
      ],
      "execution_count": 4,
      "outputs": []
    },
    {
      "cell_type": "code",
      "metadata": {
        "id": "m09PWbQlDfau"
      },
      "source": [
        "def G_xn(input_sequence,n,initial_G_dict,dictionary_prob):\n",
        "  if input_sequence in initial_G_dict:\n",
        "    return initial_G_dict[input_sequence]\n",
        "  else:\n",
        "    return G_xn(input_sequence[0:n-1],n-1,initial_G_dict,pmf_dict)+probability_xn(input_sequence[0:n-1],n-1,dictionary_prob)*initial_G_dict[input_sequence[n-1]]"
      ],
      "execution_count": 5,
      "outputs": []
    },
    {
      "cell_type": "code",
      "metadata": {
        "id": "KEK80vpTEyZG"
      },
      "source": [
        "def conditional_F_bar(input_sequence,initial_G_dict,dictionary_prob):\n",
        "  return G_xn(input_sequence,len(input_sequence),initial_G_dict,dictionary_prob) + (probability_xn(input_sequence,len(input_sequence),dictionary_prob))/2"
      ],
      "execution_count": 6,
      "outputs": []
    },
    {
      "cell_type": "code",
      "metadata": {
        "colab": {
          "base_uri": "https://localhost:8080/"
        },
        "id": "Nm6L9xwpCjJj",
        "outputId": "1a8653ac-f7fd-45dc-982a-82bc422718ee"
      },
      "source": [
        "print(\"arithmetic code for the sequence 1 is \")\n",
        "code_dec_seq1=conditional_F_bar(input_sequence1,initial_G_dict,pmf_dict)\n",
        "\n",
        "print(code_dec_seq1)\n",
        "\n",
        "code_dec_seq2=conditional_F_bar(input_sequence2,initial_G_dict,pmf_dict)\n",
        "\n",
        "print(\"arithmetic code for the sequence 2 is \")\n",
        "print(code_dec_seq2)\n",
        "\n",
        "\n",
        "\n"
      ],
      "execution_count": 7,
      "outputs": [
        {
          "output_type": "stream",
          "text": [
            "arithmetic code for the sequence 1 is \n",
            "0.8104216905477135\n",
            "arithmetic code for the sequence 2 is \n",
            "0.14972510469426706\n"
          ],
          "name": "stdout"
        }
      ]
    }
  ]
}