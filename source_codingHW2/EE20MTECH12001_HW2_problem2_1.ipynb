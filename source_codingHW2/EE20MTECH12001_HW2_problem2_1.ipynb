{
  "nbformat": 4,
  "nbformat_minor": 0,
  "metadata": {
    "colab": {
      "name": "EE20MTECH12001_HW2_problem2_1.ipynb",
      "provenance": []
    },
    "kernelspec": {
      "name": "python3",
      "display_name": "Python 3"
    },
    "language_info": {
      "name": "python"
    }
  },
  "cells": [
    {
      "cell_type": "code",
      "metadata": {
        "id": "1itmYzg5xfoB"
      },
      "source": [
        "import numpy as np"
      ],
      "execution_count": 6,
      "outputs": []
    },
    {
      "cell_type": "markdown",
      "metadata": {
        "id": "u0Ckhe169ZtC"
      },
      "source": [
        "Recursive formulae for Arithematic Code\n",
        "\n",
        "G(x^n) = G(x^(n-1)) + p(x^(n-1))*G(x_n)\n",
        "\n",
        "p(x^n) = p(x^(n-1))*p(x_n)"
      ]
    },
    {
      "cell_type": "code",
      "metadata": {
        "id": "aQ_bKxub-Pfz"
      },
      "source": [
        "def pxn(sequence,n,pmf_dict):\n",
        "  if sequence in pmf_dict:\n",
        "    return pmf_dict[sequence]\n",
        "  else :\n",
        "    return pxn(sequence[0:n-1],n-1,pmf_dict)*pmf_dict[sequence[n-1]]"
      ],
      "execution_count": 23,
      "outputs": []
    },
    {
      "cell_type": "code",
      "metadata": {
        "id": "m09PWbQlDfau"
      },
      "source": [
        "def Gxn(sequence,n,initial_G_dict,pmf_dict):\n",
        "  if sequence in initial_G_dict:\n",
        "    return initial_G_dict[sequence]\n",
        "  else:\n",
        "    return Gxn(sequence[0:n-1],n-1,initial_G_dict,pmf_dict)+pxn(sequence[0:n-1],n-1,pmf_dict)*initial_G_dict[sequence[n-1]]"
      ],
      "execution_count": 27,
      "outputs": []
    },
    {
      "cell_type": "code",
      "metadata": {
        "id": "KEK80vpTEyZG"
      },
      "source": [
        "def Fbar(seqeunce,initial_G_dict,pmf_dict):\n",
        "  return Gxn(sequence,len(sequence),initial_G_dict,pmf_dict) + (pxn(sequence,len(sequence),pmf_dict))/2"
      ],
      "execution_count": 30,
      "outputs": []
    },
    {
      "cell_type": "code",
      "metadata": {
        "colab": {
          "base_uri": "https://localhost:8080/"
        },
        "id": "Nm6L9xwpCjJj",
        "outputId": "c9074911-68d0-4f77-929e-8609ad4a88ca"
      },
      "source": [
        "alphabet = ['a','b','c']\n",
        "pmf = np.array([0.4,0.4,0.2])\n",
        "pmf_dict=dict(zip(alphabet,pmf))\n",
        "#Calculating G(a),G(b),G(c)\n",
        "initial_G_dict=dict(zip(alphabet,[sum(pmf[0:i]) for i in range(len(pmf))]))\n",
        "sequence='acaa'\n",
        "print(Fbar(sequence,initial_G_dict,pmf_dict))"
      ],
      "execution_count": 31,
      "outputs": [
        {
          "output_type": "stream",
          "text": [
            "0.3264000000000001\n"
          ],
          "name": "stdout"
        }
      ]
    },
    {
      "cell_type": "code",
      "metadata": {
        "id": "HTWsxx7Q9QpD"
      },
      "source": [
        ""
      ],
      "execution_count": null,
      "outputs": []
    }
  ]
}