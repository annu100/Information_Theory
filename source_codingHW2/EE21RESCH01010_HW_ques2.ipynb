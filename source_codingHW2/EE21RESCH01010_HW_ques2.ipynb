{
  "nbformat": 4,
  "nbformat_minor": 0,
  "metadata": {
    "colab": {
      "name": "EE21RESCH01010_HW_ques2.ipynb",
      "provenance": []
    },
    "kernelspec": {
      "name": "python3",
      "display_name": "Python 3"
    },
    "language_info": {
      "name": "python"
    }
  },
  "cells": [
    {
      "cell_type": "markdown",
      "metadata": {
        "id": "XngcM9I6gvTo"
      },
      "source": [
        "ANNU\n",
        "EE21RESCH01010\n",
        "\n",
        "SOURCE CODING-PROBLEM 2.2\n",
        "\n",
        "LZ78-PARSING OF SEQUENCE AND ENCODING USING PHRASES "
      ]
    },
    {
      "cell_type": "code",
      "metadata": {
        "colab": {
          "base_uri": "https://localhost:8080/"
        },
        "id": "S8EWn0Qfbq85",
        "outputId": "c6b29ceb-8a7d-48ae-cb3c-e2aaf6584036"
      },
      "source": [
        "def parsing_seq(comp_data,data):\n",
        "  parsing=''\n",
        "  for i in range(len(comp_data)):\n",
        "    if(comp_data[i][0]==0):\n",
        "      parsing=parsing+comp_data[i][1]\n",
        "      parsing=parsing+','\n",
        "\n",
        "    elif comp_data[i][1]=='':\n",
        "      \n",
        "      k=comp_data[i][0]-1\n",
        "      t=comp_data[k][0]-1\n",
        "      parsing=parsing+comp_data[t][1]\n",
        "      parsing=parsing+comp_data[k][1]\n",
        "      parsing=parsing+','\n",
        "    else:\n",
        "      k=comp_data[i][0]-1\n",
        "      parsing=parsing+comp_data[k][1]\n",
        "      \n",
        "      if comp_data[k][0]==0 :\n",
        "        parsing=parsing\n",
        "      else:\n",
        "        l=comp_data[k][0]-1\n",
        "        parsing=parsing+comp_data[l][1]\n",
        "        #parsing=parsing+comp_data[k][1]\n",
        "      parsing=parsing+comp_data[i][1]\n",
        "      parsing=parsing+','\n",
        "  return parsing\n",
        "\n",
        "\n",
        "def compress_LZ78(data):\n",
        "    comp_data = []\n",
        "    dictionnary = ['']\n",
        "    word = ''\n",
        "    i = 0\n",
        "    for char in data:\n",
        "        i += 1\n",
        "        word += char\n",
        "        if not word in dictionnary:\n",
        "            dictionnary.append(word)\n",
        "            comp_data.append([dictionnary.index(word[:-1]), word[-1]])\n",
        "            word = ''\n",
        "        elif i == len(data):\n",
        "            comp_data.append([dictionnary.index(word),''])\n",
        "            word = ''\n",
        "    return comp_data\n",
        "\n",
        "\n",
        "\n",
        "def print_encod(input_seq):\n",
        "  comp_data=compress_LZ78(input_seq)\n",
        "  for i in range(len(comp_data)):\n",
        "    if comp_data[i][1]=='':\n",
        "      k=comp_data[i][0]-1\n",
        "      t=comp_data[k][0]-1\n",
        "      comp_data[i][1]=comp_data[t][1]\n",
        "      comp_data[i][1]+=comp_data[k][1]\n",
        "  return comp_data\n",
        "#given sequences \n",
        "\n",
        "input_seq1=\"ddcbabbdabddbbd\"\n",
        "input_seq2=\"badabaaddadddcb\"\n",
        "input_seq3=\"bdddddbdbaddcad\"\n",
        "\n",
        "#for sequence 1\n",
        "\n",
        "comp_data1 = compress_LZ78(input_seq1)\n",
        "print('Encoded LZ78 sequence is for 1st sequence')\n",
        "print(comp_data1)\n",
        "print(\"Encoded LZ78 sequence is for 1st sequence if we represent '' by that phrase\")\n",
        "print(print_encod(input_seq1))\n",
        "print(\"parsing using LZ78 of given sequence 1 is given by:\",parsing_seq(comp_data1,input_seq1))\n",
        "\n",
        "#for sequence 1\n",
        "comp_data2 = compress_LZ78(input_seq2)\n",
        "print('Encoded LZ78 sequence is for 2nd sequence')\n",
        "print(comp_data2)\n",
        "print(\"Encoded LZ78 sequence is for 2nd sequence if we represent '' by that phrase\")\n",
        "print(print_encod(input_seq2))\n",
        "print(\"parsing using LZ78 of given sequence 2 is given by:\",parsing_seq(comp_data2,input_seq2))\n",
        "\n",
        "\n",
        "comp_data3 = compress_LZ78(input_seq3)\n",
        "print('Encoded LZ78 sequence is for 3rd sequence')\n",
        "print(comp_data3)\n",
        "\n",
        "print(\"parsing using LZ78 of given sequence 3 is given by:\",parsing_seq(comp_data3,input_seq3))"
      ],
      "execution_count": 38,
      "outputs": [
        {
          "output_type": "stream",
          "text": [
            "Encoded LZ78 sequence is for 1st sequence\n",
            "[[0, 'd'], [1, 'c'], [0, 'b'], [0, 'a'], [3, 'b'], [1, 'a'], [3, 'd'], [1, 'b'], [7, '']]\n",
            "Encoded LZ78 sequence is for 1st sequence if we represent '' by that phrase\n",
            "[[0, 'd'], [1, 'c'], [0, 'b'], [0, 'a'], [3, 'b'], [1, 'a'], [3, 'd'], [1, 'b'], [7, 'bd']]\n",
            "parsing using LZ78 of given sequence 1 is given by: d,dc,b,a,bb,da,bd,db,bd,\n",
            "Encoded LZ78 sequence is for 2nd sequence\n",
            "[[0, 'b'], [0, 'a'], [0, 'd'], [2, 'b'], [2, 'a'], [3, 'd'], [2, 'd'], [6, 'c'], [1, '']]\n",
            "Encoded LZ78 sequence is for 2nd sequence if we represent '' by that phrase\n",
            "[[0, 'b'], [0, 'a'], [0, 'd'], [2, 'b'], [2, 'a'], [3, 'd'], [2, 'd'], [6, 'c'], [1, 'b']]\n",
            "parsing using LZ78 of given sequence 2 is given by: b,a,d,ab,aa,dd,ad,ddc,b,\n",
            "Encoded LZ78 sequence is for 3rd sequence\n",
            "[[0, 'b'], [0, 'd'], [2, 'd'], [3, 'b'], [2, 'b'], [0, 'a'], [3, 'c'], [6, 'd']]\n",
            "parsing using LZ78 of given sequence 3 is given by: b,d,dd,ddb,db,a,ddc,ad,\n"
          ],
          "name": "stdout"
        }
      ]
    },
    {
      "cell_type": "code",
      "metadata": {
        "colab": {
          "base_uri": "https://localhost:8080/"
        },
        "id": "50B_6jjHakCM",
        "outputId": "81ac590d-49b8-4d96-992f-279f39f9e39e"
      },
      "source": [
        "!pip install cStringIO"
      ],
      "execution_count": null,
      "outputs": [
        {
          "output_type": "stream",
          "text": [
            "\u001b[31mERROR: Could not find a version that satisfies the requirement cStringIO (from versions: none)\u001b[0m\n",
            "\u001b[31mERROR: No matching distribution found for cStringIO\u001b[0m\n"
          ],
          "name": "stdout"
        }
      ]
    }
  ]
}