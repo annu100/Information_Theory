{
  "nbformat": 4,
  "nbformat_minor": 0,
  "metadata": {
    "colab": {
      "name": "EE21RESCH01010_HW2_ques1.ipynb",
      "provenance": []
    },
    "kernelspec": {
      "name": "python3",
      "display_name": "Python 3"
    },
    "language_info": {
      "name": "python"
    }
  },
  "cells": [
    {
      "cell_type": "markdown",
      "metadata": {
        "id": "sZa4xw3PXksk"
      },
      "source": [
        "Name-ANNU\n",
        "\n",
        "ROLL_NO-EE21RESCH01010\n",
        "\n",
        "SOURCE CODING ASSIGNMENT 2\n",
        " \n",
        "Question 1\n",
        "\n",
        "**CODE FOR ARITHMETIC CODES**"
      ]
    },
    {
      "cell_type": "markdown",
      "metadata": {
        "id": "u0Ckhe169ZtC"
      },
      "source": [
        "Arithmetic-code calculation:\n",
        "1.Divide the numeric range 0 to 1 into number of different symbols present in the message.\n",
        "2.Plotting the corresponding CDF with lower and upper limits.\n",
        "\n",
        "3.Expand the first letter to be coded along with the range.Further subdivide this range into number of symbols.\n",
        "\n",
        "3.Repeat the procedure until last termination character is encoded.\n",
        "\n",
        "4.Terminate the encoded bits to ceil(log2(1/p(string))+1\n",
        "\n",
        "5.Binary representation of F_bar is find out terminated by calculated terminated no. of bits.\n",
        "\n",
        "\n",
        "This can be achieved easily with the help of these Recursive Formulas:-\n",
        "\n",
        "\n",
        "**Recursive formulae for Arithematic Code**\n",
        "\n",
        "G(x^n) = G(x^(n-1)) + p(x^(n-1))*G(x_n)  #modified cdf\n",
        "\n",
        "p(x^n) = p(x^(n-1))*p(x_n)\n",
        "\n",
        "F_bar(x^n)=G(x^n)+p(x^n)/2\n",
        "\n",
        "\n",
        "Encoded codeword=binary representation of F_bar(x^n) terminated by ceil(log2(1/p(x^n))+1"
      ]
    },
    {
      "cell_type": "code",
      "metadata": {
        "id": "1itmYzg5xfoB"
      },
      "source": [
        "#importing libraries\n",
        "\n",
        "import numpy as np\n",
        "import matplotlib.pyplot as plt\n",
        "import math"
      ],
      "execution_count": 1,
      "outputs": []
    },
    {
      "cell_type": "code",
      "metadata": {
        "id": "WnBh0CPWA9lS",
        "colab": {
          "base_uri": "https://localhost:8080/"
        },
        "outputId": "8a29865c-fbb5-4eec-bb1b-7778e601f92d"
      },
      "source": [
        "#data given to us\n",
        "\n",
        "symbols = ['a','b','c']\n",
        "#prob_pmf = np.array([0.1,0.5,0.4])\n",
        "prob_pmf=np.array([0.266726239842391,0.353436408132884,0.379837352024725])\n",
        "pmf_dict=dict(zip(symbols,prob_pmf))\n",
        "#Calculating G(a),G(b),G(c)\n",
        "G_values=[sum(prob_pmf[0:i]) for i in range(len(prob_pmf))]\n",
        "initial_G_dict=dict(zip(symbols,G_values)) #forming dictionary\n",
        "print(\"pmf of symbols in dictionary form is\",pmf_dict)\n",
        "print(\"Initial G values of symbols in dictionary form is\",initial_G_dict)\n",
        "\n",
        "#input_sequence1='bbca'\n",
        "input_sequence1='cbcabbbbcb'\n",
        "input_sequence2='abcbcbcbcc'"
      ],
      "execution_count": 2,
      "outputs": [
        {
          "output_type": "stream",
          "text": [
            "pmf of symbols in dictionary form is {'a': 0.266726239842391, 'b': 0.353436408132884, 'c': 0.379837352024725}\n",
            "Initial G values of symbols in dictionary form is {'a': 0, 'b': 0.266726239842391, 'c': 0.6201626479752751}\n"
          ],
          "name": "stdout"
        }
      ]
    },
    {
      "cell_type": "code",
      "metadata": {
        "colab": {
          "base_uri": "https://localhost:8080/",
          "height": 312
        },
        "id": "8c8BvXmBYUZR",
        "outputId": "513ccfdb-ae3a-472e-8590-c50d13a427c1"
      },
      "source": [
        "#G plot\n",
        "plt.figure\n",
        "k=list(initial_G_dict.values())\n",
        "#print(k.shape)\n",
        "plt.bar(symbols,k)\n",
        "plt.xlabel(\"symbols\")\n",
        "plt.ylabel(\"Initial G values\")\n",
        "plt.title(\"G values\")"
      ],
      "execution_count": 3,
      "outputs": [
        {
          "output_type": "execute_result",
          "data": {
            "text/plain": [
              "Text(0.5, 1.0, 'G values')"
            ]
          },
          "metadata": {
            "tags": []
          },
          "execution_count": 3
        },
        {
          "output_type": "display_data",
          "data": {
            "image/png": "[encoded data removed]",
            "text/plain": [
              "<Figure size 432x288 with 1 Axes>"
            ]
          },
          "metadata": {
            "tags": [],
            "needs_background": "light"
          }
        }
      ]
    },
    {
      "cell_type": "code",
      "metadata": {
        "id": "qzj32wOsz6GV"
      },
      "source": [
        "#cdf pdf plot function\n",
        "def cdf_pdf_plot(symbols,pmf):\n",
        "  cdf=np.cumsum(pmf)\n",
        "  plt.bar(symbols,cdf,label='cdf')\n",
        "  plt.xlabel(\"symbols\")\n",
        "  plt.ylabel(\"cdf values\")\n",
        "  plt.legend()\n",
        "  plt.figure()\n",
        "  plt.bar(symbols,pmf,label=\"pmf\")\n",
        "  plt.xlabel(\"symbols\")\n",
        "  plt.ylabel(\"pmf values\")\n",
        "  plt.legend()"
      ],
      "execution_count": 4,
      "outputs": []
    },
    {
      "cell_type": "code",
      "metadata": {
        "id": "HTWsxx7Q9QpD",
        "colab": {
          "base_uri": "https://localhost:8080/",
          "height": 541
        },
        "outputId": "98c9bbdf-c640-44e5-b43f-d1f9e479dfd2"
      },
      "source": [
        "#pdf and cdf plot\n",
        "\n",
        "cdf_pdf_plot(symbols,prob_pmf)"
      ],
      "execution_count": null,
      "outputs": [
        {
          "output_type": "display_data",
          "data": {
            "image/png": "[encoded data removed]",
            "text/plain": [
              "<Figure size 432x288 with 1 Axes>"
            ]
          },
          "metadata": {
            "tags": [],
            "needs_background": "light"
          }
        },
        {
          "output_type": "display_data",
          "data": {
            "image/png": "[encoded data removed]",
            "text/plain": [
              "<Figure size 432x288 with 1 Axes>"
            ]
          },
          "metadata": {
            "tags": [],
            "needs_background": "light"
          }
        }
      ]
    },
    {
      "cell_type": "code",
      "metadata": {
        "id": "aQ_bKxub-Pfz"
      },
      "source": [
        "#recursive probability for the sequence\n",
        "#p(x^n) = p(x^(n-1))*p(x_n)\n",
        "def probability_xn(input_sequence,n,dictionary_prob):\n",
        "  if input_sequence in dictionary_prob:\n",
        "    return dictionary_prob[input_sequence]\n",
        "  else :\n",
        "    k=probability_xn(input_sequence[0:n-1],n-1,dictionary_prob)*dictionary_prob[input_sequence[n-1]]\n",
        "    return k"
      ],
      "execution_count": 5,
      "outputs": []
    },
    {
      "cell_type": "code",
      "metadata": {
        "id": "P776wy9nChfU"
      },
      "source": [
        "#binary representation of arithmetic code\n",
        "\n",
        "#termination bits calculation\n",
        "def termination_bits(input_sequence):\n",
        "  p_xn=probability_xn(input_sequence,len(input_sequence),pmf_dict)\n",
        "  no_bits=math.ceil(math.log2(1/p_xn))+1\n",
        "  return no_bits\n",
        "\n",
        "def decimal_converter(num):  \n",
        "\n",
        "    while num > 1: \n",
        "\n",
        "        num /= 10\n",
        "\n",
        "    return num\n",
        "\n",
        "def float_bin(number, places = 8): #default termination bits=8\n",
        "    whole, dec = str(number).split(\".\") \n",
        "    whole = int(whole) \n",
        "    dec = int (dec) \n",
        "    res = bin(whole).lstrip(\"0b\") + \".\"\n",
        "\n",
        "\n",
        "    for x in range(places): \n",
        "        whole, dec = str((decimal_converter(dec)) * 2).split(\".\") \n",
        "        dec = int(dec) \n",
        "        res += whole \n",
        "    return res"
      ],
      "execution_count": 6,
      "outputs": []
    },
    {
      "cell_type": "code",
      "metadata": {
        "id": "m09PWbQlDfau"
      },
      "source": [
        "#Recursive formula for G(x^n)\n",
        "\n",
        "def G_xn(input_sequence,n,initial_G_dict,dictionary_prob):\n",
        "  if input_sequence in initial_G_dict:\n",
        "    return initial_G_dict[input_sequence]\n",
        "  else:\n",
        "    k=G_xn(input_sequence[0:n-1],n-1,initial_G_dict,pmf_dict)\n",
        "    k+=probability_xn(input_sequence[0:n-1],n-1,dictionary_prob)*initial_G_dict[input_sequence[n-1]]\n",
        "    return k"
      ],
      "execution_count": 7,
      "outputs": []
    },
    {
      "cell_type": "code",
      "metadata": {
        "id": "KEK80vpTEyZG"
      },
      "source": [
        "# finding F_bar which in binary is encoded bits \n",
        "#F_bar(x^n)=G(x^n)+p(x^n)/2\n",
        "\n",
        "def conditional_F_bar(input_sequence,initial_G_dict,dictionary_prob):\n",
        "  k=G_xn(input_sequence,len(input_sequence),initial_G_dict,dictionary_prob) \n",
        "  k+=(probability_xn(input_sequence,len(input_sequence),dictionary_prob))/2\n",
        "  return k"
      ],
      "execution_count": 8,
      "outputs": []
    },
    {
      "cell_type": "code",
      "metadata": {
        "colab": {
          "base_uri": "https://localhost:8080/"
        },
        "id": "Nm6L9xwpCjJj",
        "outputId": "c073f51f-41d8-46ab-fd80-7805fa26100d"
      },
      "source": [
        "#Displaying all results\n",
        "\n",
        "print(\"arithmetic code for the sequence 1 is \")\n",
        "code_dec_seq1=conditional_F_bar(input_sequence1,initial_G_dict,pmf_dict)\n",
        "totalbits_seq1=termination_bits(input_sequence1)\n",
        "print(code_dec_seq1)\n",
        "print(\"terminated bits for sequence 1 is\",totalbits_seq1)\n",
        "print(\"Encoded arithmetic code  for sequence 1 is:\",float_bin(code_dec_seq1,totalbits_seq1))\n",
        "#print(\"arithmetic code for the sequence 2 is \")\n",
        "code_dec_seq2=conditional_F_bar(input_sequence2,initial_G_dict,pmf_dict)\n",
        "totalbits_seq2=termination_bits(input_sequence2)\n",
        "print(\"terminated bits for sequence 2 is\",totalbits_seq2)\n",
        "print(\"arithmetic code for the sequence 2 is \")\n",
        "print(code_dec_seq2)\n",
        "print(\"Encoded arithmetic code  for sequence 2 is:\",float_bin(code_dec_seq2,totalbits_seq2))\n",
        "\n",
        "\n"
      ],
      "execution_count": 9,
      "outputs": [
        {
          "output_type": "stream",
          "text": [
            "arithmetic code for the sequence 1 is \n",
            "0.8104216906723426\n",
            "terminated bits for sequence 1 is 17\n",
            "Encoded arithmetic code  for sequence 1 is: .11001111011101111\n",
            "terminated bits for sequence 2 is 16\n",
            "arithmetic code for the sequence 2 is \n",
            "0.14972510474928466\n",
            "Encoded arithmetic code  for sequence 2 is: .0010011001010111\n"
          ],
          "name": "stdout"
        }
      ]
    }
  ]
}