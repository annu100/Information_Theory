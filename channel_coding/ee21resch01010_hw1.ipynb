{
  "nbformat": 4,
  "nbformat_minor": 0,
  "metadata": {
    "colab": {
      "name": "Untitled13.ipynb",
      "provenance": []
    },
    "kernelspec": {
      "name": "python3",
      "display_name": "Python 3"
    },
    "language_info": {
      "name": "python"
    }
  },
  "cells": [
    {
      "cell_type": "code",
      "metadata": {
        "id": "EOvbxP1sLmqh"
      },
      "source": [
        "#Importing libraries\n",
        "\n",
        "import numpy as np\n",
        "import matplotlib.pyplot as plt\n",
        "import cvxpy as cp"
      ],
      "execution_count": 2,
      "outputs": []
    },
    {
      "cell_type": "code",
      "metadata": {
        "colab": {
          "base_uri": "https://localhost:8080/"
        },
        "id": "M54ff7NdNL81",
        "outputId": "a8709182-8bd1-4141-cf57-44e157a64913"
      },
      "source": [
        "def channel_capacity(n, m, P, sum_x=1):\n",
        "\n",
        "    # n is the number of different input values\n",
        "    # m is the number of different output values\n",
        "    if n*m == 0:\n",
        "        print('The range of both input and output values must be greater than zero')\n",
        "        return 'failed', np.nan, np.nan\n",
        "\n",
        "    # x is probability distribution of the input signal X(t)\n",
        "    x = cp.Variable(shape=n)\n",
        "\n",
        "    # y is the probability distribution of the output signal Y(t)\n",
        "    # P is the channel transition matrix\n",
        "    y = P*x\n",
        "\n",
        "    # I is the mutual information between x and y\n",
        "    c = np.sum(P*np.log2(P),axis=0)\n",
        "    I = c*x + cp.sum(cp.entr(y))\n",
        "\n",
        "    # Channel capacity maximised by maximising the mutual information\n",
        "    obj = cp.Minimize(-I)\n",
        "    constraints = [cp.sum(x) == sum_x,x >= 0]\n",
        "\n",
        "    # Form and solve problem\n",
        "    prob = cp.Problem(obj,constraints)\n",
        "    prob.solve()\n",
        "    if prob.status=='optimal':\n",
        "        return prob.status, prob.value, x.value\n",
        "    else:\n",
        "        return prob.status, np.nan, np.nan\n",
        "\n",
        "n = 2\n",
        "m = 2\n",
        "P = np.array([[0.75,0.25],\n",
        "             [0.25,0.75]])\n",
        "\n",
        "p_0by1=0.5982945793\n",
        "p_1by0=0.7007205513\n",
        "\n",
        "transional_prob=np.array([[1-p_1by0,p_1by0],[p_0by1,1-p_0by1]])\n",
        "P=transional_prob\n",
        "stat, C, x = channel_capacity(n, m, P)\n",
        "print('Problem status: ',stat)\n",
        "print('Optimal value of C = {:.4g}'.format(C))\n",
        "print('Optimal variable x = \\n', x)"
      ],
      "execution_count": 16,
      "outputs": [
        {
          "output_type": "stream",
          "text": [
            "Problem status:  optimal\n",
            "Optimal value of C = 0.2328\n",
            "Optimal variable x = \n",
            " [0.466 0.534]\n"
          ],
          "name": "stdout"
        }
      ]
    },
    {
      "cell_type": "code",
      "metadata": {
        "id": "bopwgaEBRbb8"
      },
      "source": [
        "#basic functions\n",
        "def discrete_entropy(P_x):\n",
        "  length=P_x.shape[0]\n",
        "  entropy=0\n",
        "  for i in range(length):\n",
        "    entropy+=-P_x[i]*np.log2(P_x[i])\n",
        "  return entropy\n",
        "\n",
        "def joint_discrete_entropy(P_x):\n",
        "  length=P_x.shape[0]\n",
        "  entropy=0\n",
        "  for i in range(P_x.shape[0]):\n",
        "    for j in range(P_x.shape[1]):\n",
        "      entropy+=-P_x[i,j]*np.log2(P_x[i,j])\n",
        "  return entropy\n",
        "\n",
        "def conditional_entropy(P_x_y,P_x):\n",
        "  entropy=0\n",
        "  for i in range(P_x_y.shape[0]):\n",
        "    for j in range(P_x_y.shape[1]):\n",
        "      entropy+=-P_x_y[i,j]*np.log2(P_x_y[i,j]/P_x[i])\n",
        "  return entropy\n",
        "\n",
        "def mutual_information(P_x_y,P_x,P_y):\n",
        "  entropy=0\n",
        "  for i in range(P_x_y.shape[0]):\n",
        "    for j in range(P_x_y.shape[1]):\n",
        "      entropy+=P_x_y[i,j]*np.log2(P_x_y[i,j]/(P_x[i]*P_y[j]))\n",
        "  return entropy\n",
        "\n",
        "def entropy_ybyx(px,p_ybyx):\n",
        "  return (sum([px[i]*discrete_entropy(p_ybyx[i,:]) for i in range(len(px))]))[0]"
      ],
      "execution_count": 12,
      "outputs": []
    },
    {
      "cell_type": "code",
      "metadata": {
        "colab": {
          "base_uri": "https://localhost:8080/"
        },
        "id": "c-eBwFIiNyPj",
        "outputId": "e318dceb-963d-47d5-82d0-68b9152db758"
      },
      "source": [
        "# Given data -transition probability matrix\n",
        "\n",
        "p_0by1=0.5982945793\n",
        "p_1by0=0.7007205513\n",
        "\n",
        "transional_prob=np.array([[1-p_1by0,p_1by0],[p_0by1,1-p_0by1]])\n",
        "\n",
        "#from the derivation ,by differentiating h_y and h_y|x to get maximum capacity,we get results and using that result directly,\n",
        "const =( ((p_0by1**p_0by1)*((1-p_0by1)**(1-p_0by1)))/((p_1by0**p_1by0)*((1-p_1by0)**(1-p_1by0))) )**(1/(1-p_1by0-p_0by1))\n",
        "p = (1-(const+1)*p_0by1)/((1+const)*(1-p_1by0-p_0by1)) #input distribution p which acieves capacity\n",
        "\n",
        "\n",
        "px = np.array([p , 1-p]).reshape((2,1))\n",
        "py = (px.T@transional_prob)[0]\n",
        "\n",
        "Hy = discrete_entropy(py)\n",
        "Hylx =entropy_ybyx(px,transional_prob)\n",
        "C = Hy - Hylx\n",
        "\n",
        "print('px = ',px)\n",
        "print('py = ',py)\n",
        "print('Hy = ',Hy)\n",
        "print('Hybyx = ',Hylx)\n",
        "print('Capacity = ', C)\n",
        "\n"
      ],
      "execution_count": 14,
      "outputs": [
        {
          "output_type": "stream",
          "text": [
            "px =  [[0.505]\n",
            " [0.495]]\n",
            "py =  [0.447 0.553]\n",
            "Hy =  0.9919267519247422\n",
            "Hylx =  0.9256738612808089\n",
            "Capacity =  0.06625289064393336\n"
          ],
          "name": "stdout"
        }
      ]
    },
    {
      "cell_type": "code",
      "metadata": {
        "id": "6gOb4TXgWTGR"
      },
      "source": [
        ""
      ],
      "execution_count": null,
      "outputs": []
    }
  ]
}